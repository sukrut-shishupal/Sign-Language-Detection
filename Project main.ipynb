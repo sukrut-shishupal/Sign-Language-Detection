{
  "nbformat": 4,
  "nbformat_minor": 0,
  "metadata": {
    "colab": {
      "provenance": []
    },
    "kernelspec": {
      "name": "python3",
      "display_name": "Python 3"
    },
    "language_info": {
      "name": "python"
    }
  },
  "cells": [
    {
      "cell_type": "markdown",
      "source": [
        "# American Sign Language Recognition using CNN "
      ],
      "metadata": {
        "id": "CryjRLmDfLQJ"
      }
    },
    {
      "cell_type": "code",
      "source": [
        "import numpy as np\n",
        "import pandas as pd\n",
        "import matplotlib.pyplot as plt\n",
        "import seaborn as sns\n",
        "import cv2"
      ],
      "metadata": {
        "id": "4Oa-C0o51_FE"
      },
      "execution_count": 1,
      "outputs": []
    },
    {
      "cell_type": "code",
      "source": [
        "train = pd.read_csv(\"/content/sign_mnist_train.csv\")\n",
        "test = pd.read_csv(\"/content/sign_mnist_test.csv\")\n",
        "train.head()"
      ],
      "metadata": {
        "colab": {
          "base_uri": "https://localhost:8080/",
          "height": 236
        },
        "id": "OqpKpbUC2KUq",
        "outputId": "9fa8b097-c23f-4b32-a90c-19615e2249a5"
      },
      "execution_count": 2,
      "outputs": [
        {
          "output_type": "execute_result",
          "data": {
            "text/plain": [
              "   label  pixel1  pixel2  pixel3  pixel4  pixel5  pixel6  pixel7  pixel8  \\\n",
              "0      3     107     118     127     134     139     143     146     150   \n",
              "1      6     155     157     156     156     156     157     156     158   \n",
              "2      2     187     188     188     187     187     186     187     188   \n",
              "3      2     211     211     212     212     211     210     211     210   \n",
              "4     13     164     167     170     172     176     179     180     184   \n",
              "\n",
              "   pixel9  ...  pixel775  pixel776  pixel777  pixel778  pixel779  pixel780  \\\n",
              "0     153  ...       207       207       207       207       206       206   \n",
              "1     158  ...        69       149       128        87        94       163   \n",
              "2     187  ...       202       201       200       199       198       199   \n",
              "3     210  ...       235       234       233       231       230       226   \n",
              "4     185  ...        92       105       105       108       133       163   \n",
              "\n",
              "   pixel781  pixel782  pixel783  pixel784  \n",
              "0       206       204       203       202  \n",
              "1       175       103       135       149  \n",
              "2       198       195       194       195  \n",
              "3       225       222       229       163  \n",
              "4       157       163       164       179  \n",
              "\n",
              "[5 rows x 785 columns]"
            ],
            "text/html": [
              "\n",
              "  <div id=\"df-3ff05dbb-79f4-46bc-904d-83045c490c4a\">\n",
              "    <div class=\"colab-df-container\">\n",
              "      <div>\n",
              "<style scoped>\n",
              "    .dataframe tbody tr th:only-of-type {\n",
              "        vertical-align: middle;\n",
              "    }\n",
              "\n",
              "    .dataframe tbody tr th {\n",
              "        vertical-align: top;\n",
              "    }\n",
              "\n",
              "    .dataframe thead th {\n",
              "        text-align: right;\n",
              "    }\n",
              "</style>\n",
              "<table border=\"1\" class=\"dataframe\">\n",
              "  <thead>\n",
              "    <tr style=\"text-align: right;\">\n",
              "      <th></th>\n",
              "      <th>label</th>\n",
              "      <th>pixel1</th>\n",
              "      <th>pixel2</th>\n",
              "      <th>pixel3</th>\n",
              "      <th>pixel4</th>\n",
              "      <th>pixel5</th>\n",
              "      <th>pixel6</th>\n",
              "      <th>pixel7</th>\n",
              "      <th>pixel8</th>\n",
              "      <th>pixel9</th>\n",
              "      <th>...</th>\n",
              "      <th>pixel775</th>\n",
              "      <th>pixel776</th>\n",
              "      <th>pixel777</th>\n",
              "      <th>pixel778</th>\n",
              "      <th>pixel779</th>\n",
              "      <th>pixel780</th>\n",
              "      <th>pixel781</th>\n",
              "      <th>pixel782</th>\n",
              "      <th>pixel783</th>\n",
              "      <th>pixel784</th>\n",
              "    </tr>\n",
              "  </thead>\n",
              "  <tbody>\n",
              "    <tr>\n",
              "      <th>0</th>\n",
              "      <td>3</td>\n",
              "      <td>107</td>\n",
              "      <td>118</td>\n",
              "      <td>127</td>\n",
              "      <td>134</td>\n",
              "      <td>139</td>\n",
              "      <td>143</td>\n",
              "      <td>146</td>\n",
              "      <td>150</td>\n",
              "      <td>153</td>\n",
              "      <td>...</td>\n",
              "      <td>207</td>\n",
              "      <td>207</td>\n",
              "      <td>207</td>\n",
              "      <td>207</td>\n",
              "      <td>206</td>\n",
              "      <td>206</td>\n",
              "      <td>206</td>\n",
              "      <td>204</td>\n",
              "      <td>203</td>\n",
              "      <td>202</td>\n",
              "    </tr>\n",
              "    <tr>\n",
              "      <th>1</th>\n",
              "      <td>6</td>\n",
              "      <td>155</td>\n",
              "      <td>157</td>\n",
              "      <td>156</td>\n",
              "      <td>156</td>\n",
              "      <td>156</td>\n",
              "      <td>157</td>\n",
              "      <td>156</td>\n",
              "      <td>158</td>\n",
              "      <td>158</td>\n",
              "      <td>...</td>\n",
              "      <td>69</td>\n",
              "      <td>149</td>\n",
              "      <td>128</td>\n",
              "      <td>87</td>\n",
              "      <td>94</td>\n",
              "      <td>163</td>\n",
              "      <td>175</td>\n",
              "      <td>103</td>\n",
              "      <td>135</td>\n",
              "      <td>149</td>\n",
              "    </tr>\n",
              "    <tr>\n",
              "      <th>2</th>\n",
              "      <td>2</td>\n",
              "      <td>187</td>\n",
              "      <td>188</td>\n",
              "      <td>188</td>\n",
              "      <td>187</td>\n",
              "      <td>187</td>\n",
              "      <td>186</td>\n",
              "      <td>187</td>\n",
              "      <td>188</td>\n",
              "      <td>187</td>\n",
              "      <td>...</td>\n",
              "      <td>202</td>\n",
              "      <td>201</td>\n",
              "      <td>200</td>\n",
              "      <td>199</td>\n",
              "      <td>198</td>\n",
              "      <td>199</td>\n",
              "      <td>198</td>\n",
              "      <td>195</td>\n",
              "      <td>194</td>\n",
              "      <td>195</td>\n",
              "    </tr>\n",
              "    <tr>\n",
              "      <th>3</th>\n",
              "      <td>2</td>\n",
              "      <td>211</td>\n",
              "      <td>211</td>\n",
              "      <td>212</td>\n",
              "      <td>212</td>\n",
              "      <td>211</td>\n",
              "      <td>210</td>\n",
              "      <td>211</td>\n",
              "      <td>210</td>\n",
              "      <td>210</td>\n",
              "      <td>...</td>\n",
              "      <td>235</td>\n",
              "      <td>234</td>\n",
              "      <td>233</td>\n",
              "      <td>231</td>\n",
              "      <td>230</td>\n",
              "      <td>226</td>\n",
              "      <td>225</td>\n",
              "      <td>222</td>\n",
              "      <td>229</td>\n",
              "      <td>163</td>\n",
              "    </tr>\n",
              "    <tr>\n",
              "      <th>4</th>\n",
              "      <td>13</td>\n",
              "      <td>164</td>\n",
              "      <td>167</td>\n",
              "      <td>170</td>\n",
              "      <td>172</td>\n",
              "      <td>176</td>\n",
              "      <td>179</td>\n",
              "      <td>180</td>\n",
              "      <td>184</td>\n",
              "      <td>185</td>\n",
              "      <td>...</td>\n",
              "      <td>92</td>\n",
              "      <td>105</td>\n",
              "      <td>105</td>\n",
              "      <td>108</td>\n",
              "      <td>133</td>\n",
              "      <td>163</td>\n",
              "      <td>157</td>\n",
              "      <td>163</td>\n",
              "      <td>164</td>\n",
              "      <td>179</td>\n",
              "    </tr>\n",
              "  </tbody>\n",
              "</table>\n",
              "<p>5 rows × 785 columns</p>\n",
              "</div>\n",
              "      <button class=\"colab-df-convert\" onclick=\"convertToInteractive('df-3ff05dbb-79f4-46bc-904d-83045c490c4a')\"\n",
              "              title=\"Convert this dataframe to an interactive table.\"\n",
              "              style=\"display:none;\">\n",
              "        \n",
              "  <svg xmlns=\"http://www.w3.org/2000/svg\" height=\"24px\"viewBox=\"0 0 24 24\"\n",
              "       width=\"24px\">\n",
              "    <path d=\"M0 0h24v24H0V0z\" fill=\"none\"/>\n",
              "    <path d=\"M18.56 5.44l.94 2.06.94-2.06 2.06-.94-2.06-.94-.94-2.06-.94 2.06-2.06.94zm-11 1L8.5 8.5l.94-2.06 2.06-.94-2.06-.94L8.5 2.5l-.94 2.06-2.06.94zm10 10l.94 2.06.94-2.06 2.06-.94-2.06-.94-.94-2.06-.94 2.06-2.06.94z\"/><path d=\"M17.41 7.96l-1.37-1.37c-.4-.4-.92-.59-1.43-.59-.52 0-1.04.2-1.43.59L10.3 9.45l-7.72 7.72c-.78.78-.78 2.05 0 2.83L4 21.41c.39.39.9.59 1.41.59.51 0 1.02-.2 1.41-.59l7.78-7.78 2.81-2.81c.8-.78.8-2.07 0-2.86zM5.41 20L4 18.59l7.72-7.72 1.47 1.35L5.41 20z\"/>\n",
              "  </svg>\n",
              "      </button>\n",
              "      \n",
              "  <style>\n",
              "    .colab-df-container {\n",
              "      display:flex;\n",
              "      flex-wrap:wrap;\n",
              "      gap: 12px;\n",
              "    }\n",
              "\n",
              "    .colab-df-convert {\n",
              "      background-color: #E8F0FE;\n",
              "      border: none;\n",
              "      border-radius: 50%;\n",
              "      cursor: pointer;\n",
              "      display: none;\n",
              "      fill: #1967D2;\n",
              "      height: 32px;\n",
              "      padding: 0 0 0 0;\n",
              "      width: 32px;\n",
              "    }\n",
              "\n",
              "    .colab-df-convert:hover {\n",
              "      background-color: #E2EBFA;\n",
              "      box-shadow: 0px 1px 2px rgba(60, 64, 67, 0.3), 0px 1px 3px 1px rgba(60, 64, 67, 0.15);\n",
              "      fill: #174EA6;\n",
              "    }\n",
              "\n",
              "    [theme=dark] .colab-df-convert {\n",
              "      background-color: #3B4455;\n",
              "      fill: #D2E3FC;\n",
              "    }\n",
              "\n",
              "    [theme=dark] .colab-df-convert:hover {\n",
              "      background-color: #434B5C;\n",
              "      box-shadow: 0px 1px 3px 1px rgba(0, 0, 0, 0.15);\n",
              "      filter: drop-shadow(0px 1px 2px rgba(0, 0, 0, 0.3));\n",
              "      fill: #FFFFFF;\n",
              "    }\n",
              "  </style>\n",
              "\n",
              "      <script>\n",
              "        const buttonEl =\n",
              "          document.querySelector('#df-3ff05dbb-79f4-46bc-904d-83045c490c4a button.colab-df-convert');\n",
              "        buttonEl.style.display =\n",
              "          google.colab.kernel.accessAllowed ? 'block' : 'none';\n",
              "\n",
              "        async function convertToInteractive(key) {\n",
              "          const element = document.querySelector('#df-3ff05dbb-79f4-46bc-904d-83045c490c4a');\n",
              "          const dataTable =\n",
              "            await google.colab.kernel.invokeFunction('convertToInteractive',\n",
              "                                                     [key], {});\n",
              "          if (!dataTable) return;\n",
              "\n",
              "          const docLinkHtml = 'Like what you see? Visit the ' +\n",
              "            '<a target=\"_blank\" href=https://colab.research.google.com/notebooks/data_table.ipynb>data table notebook</a>'\n",
              "            + ' to learn more about interactive tables.';\n",
              "          element.innerHTML = '';\n",
              "          dataTable['output_type'] = 'display_data';\n",
              "          await google.colab.output.renderOutput(dataTable, element);\n",
              "          const docLink = document.createElement('div');\n",
              "          docLink.innerHTML = docLinkHtml;\n",
              "          element.appendChild(docLink);\n",
              "        }\n",
              "      </script>\n",
              "    </div>\n",
              "  </div>\n",
              "  "
            ]
          },
          "metadata": {},
          "execution_count": 2
        }
      ]
    },
    {
      "cell_type": "code",
      "source": [
        "train.shape"
      ],
      "metadata": {
        "id": "sB3bc1rT2XrD",
        "colab": {
          "base_uri": "https://localhost:8080/"
        },
        "outputId": "4e585bbd-fa3b-453c-c399-ddd5af3450b1"
      },
      "execution_count": 3,
      "outputs": [
        {
          "output_type": "execute_result",
          "data": {
            "text/plain": [
              "(27455, 785)"
            ]
          },
          "metadata": {},
          "execution_count": 3
        }
      ]
    },
    {
      "cell_type": "code",
      "source": [
        "labels = train['label'].values\n",
        "unique_val = np.array(labels)\n",
        "np.unique(unique_val)"
      ],
      "metadata": {
        "id": "yMvnmCq049G7",
        "colab": {
          "base_uri": "https://localhost:8080/"
        },
        "outputId": "eddcfc53-a390-4f6f-abdf-90524ad16c88"
      },
      "execution_count": 5,
      "outputs": [
        {
          "output_type": "execute_result",
          "data": {
            "text/plain": [
              "array([ 0,  1,  2,  3,  4,  5,  6,  7,  8, 10, 11, 12, 13, 14, 15, 16, 17,\n",
              "       18, 19, 20, 21, 22, 23, 24])"
            ]
          },
          "metadata": {},
          "execution_count": 5
        }
      ]
    },
    {
      "cell_type": "code",
      "source": [
        "plt.figure(figsize = (18,8))\n",
        "sns.countplot(x =labels)"
      ],
      "metadata": {
        "id": "4QJM2quu4zkB",
        "colab": {
          "base_uri": "https://localhost:8080/",
          "height": 500
        },
        "outputId": "bc9713bf-883e-4f06-ea5f-33da90ca441a"
      },
      "execution_count": 6,
      "outputs": [
        {
          "output_type": "execute_result",
          "data": {
            "text/plain": [
              "<matplotlib.axes._subplots.AxesSubplot at 0x7f49387ddfa0>"
            ]
          },
          "metadata": {},
          "execution_count": 6
        },
        {
          "output_type": "display_data",
          "data": {
            "text/plain": [
              "<Figure size 1296x576 with 1 Axes>"
            ],
            "image/png": "[encoded data removed]"
          },
          "metadata": {
            "needs_background": "light"
          }
        }
      ]
    },
    {
      "cell_type": "code",
      "source": [
        "train.drop('label', axis = 1, inplace = True)"
      ],
      "metadata": {
        "id": "1ZRGef3OLi-H"
      },
      "execution_count": 7,
      "outputs": []
    },
    {
      "cell_type": "code",
      "source": [
        "images = train.values\n",
        "images = np.array([np.reshape(i, (28, 28)) for i in images])\n",
        "images = np.array([i.flatten() for i in images])"
      ],
      "metadata": {
        "id": "8KzHulOHLmRK"
      },
      "execution_count": 8,
      "outputs": []
    },
    {
      "cell_type": "code",
      "source": [
        "from sklearn.preprocessing import LabelBinarizer\n",
        "label_binrizer = LabelBinarizer()\n",
        "labels = label_binrizer.fit_transform(labels)"
      ],
      "metadata": {
        "id": "mc_myAIZLokz"
      },
      "execution_count": 9,
      "outputs": []
    },
    {
      "cell_type": "code",
      "source": [
        "labels"
      ],
      "metadata": {
        "id": "TLGsnrnmLqqR",
        "colab": {
          "base_uri": "https://localhost:8080/"
        },
        "outputId": "5969ccef-3a11-48de-f9dd-0c4e077455b2"
      },
      "execution_count": 10,
      "outputs": [
        {
          "output_type": "execute_result",
          "data": {
            "text/plain": [
              "array([[0, 0, 0, ..., 0, 0, 0],\n",
              "       [0, 0, 0, ..., 0, 0, 0],\n",
              "       [0, 0, 1, ..., 0, 0, 0],\n",
              "       ...,\n",
              "       [0, 0, 0, ..., 0, 0, 0],\n",
              "       [0, 0, 0, ..., 0, 0, 0],\n",
              "       [0, 0, 0, ..., 0, 1, 0]])"
            ]
          },
          "metadata": {},
          "execution_count": 10
        }
      ]
    },
    {
      "cell_type": "code",
      "source": [
        "plt.imshow(images[0].reshape(28,28))"
      ],
      "metadata": {
        "id": "nsgbKGCNLs4w",
        "colab": {
          "base_uri": "https://localhost:8080/",
          "height": 282
        },
        "outputId": "32c638cb-120c-419d-ef24-165fc8fd8bd1"
      },
      "execution_count": 11,
      "outputs": [
        {
          "output_type": "execute_result",
          "data": {
            "text/plain": [
              "<matplotlib.image.AxesImage at 0x7f4937b81970>"
            ]
          },
          "metadata": {},
          "execution_count": 11
        },
        {
          "output_type": "display_data",
          "data": {
            "text/plain": [
              "<Figure size 432x288 with 1 Axes>"
            ],
            "image/png": "[encoded data removed]"
          },
          "metadata": {
            "needs_background": "light"
          }
        }
      ]
    },
    {
      "cell_type": "code",
      "source": [
        "from sklearn.model_selection import train_test_split\n",
        "x_train, x_test, y_train, y_test = train_test_split(images, labels, test_size = 0.3, random_state = 101)"
      ],
      "metadata": {
        "id": "NscZ5V4nLxdH"
      },
      "execution_count": 12,
      "outputs": []
    },
    {
      "cell_type": "code",
      "source": [
        "import keras\n",
        "from keras.models import Sequential\n",
        "from keras.layers import Dense, Conv2D, MaxPooling2D, Flatten, Dropout"
      ],
      "metadata": {
        "id": "feLM1rZDL2jT"
      },
      "execution_count": 13,
      "outputs": []
    },
    {
      "cell_type": "code",
      "source": [
        "batch_size = 128\n",
        "num_classes = 24\n",
        "epochs = 50\n",
        "x_train = x_train / 255\n",
        "x_test = x_test / 255\n",
        "x_train = x_train.reshape(x_train.shape[0], 28, 28, 1)\n",
        "x_test = x_test.reshape(x_test.shape[0], 28, 28, 1)\n",
        "plt.imshow(x_train[0].reshape(28,28))"
      ],
      "metadata": {
        "id": "mgSNcVKUL5Xo",
        "colab": {
          "base_uri": "https://localhost:8080/",
          "height": 282
        },
        "outputId": "bd71d0b6-512e-45e0-ab86-c70c0f66e308"
      },
      "execution_count": 14,
      "outputs": [
        {
          "output_type": "execute_result",
          "data": {
            "text/plain": [
              "<matplotlib.image.AxesImage at 0x7f48e15105b0>"
            ]
          },
          "metadata": {},
          "execution_count": 14
        },
        {
          "output_type": "display_data",
          "data": {
            "text/plain": [
              "<Figure size 432x288 with 1 Axes>"
            ],
            "image/png": "[encoded data removed]"
          },
          "metadata": {
            "needs_background": "light"
          }
        }
      ]
    },
    {
      "cell_type": "code",
      "source": [
        "model = Sequential()\n",
        "model.add(Conv2D(64, kernel_size=(3,3), activation = 'relu', input_shape=(28, 28 ,1) ))\n",
        "model.add(MaxPooling2D(pool_size = (2, 2)))\n",
        "\n",
        "model.add(Conv2D(64, kernel_size = (3, 3), activation = 'relu'))\n",
        "model.add(MaxPooling2D(pool_size = (2, 2)))\n",
        "\n",
        "model.add(Conv2D(64, kernel_size = (3, 3), activation = 'relu'))\n",
        "model.add(MaxPooling2D(pool_size = (2, 2)))\n",
        "\n",
        "model.add(Flatten())\n",
        "model.add(Dense(128, activation = 'relu'))\n",
        "model.add(Dropout(0.20))\n",
        "\n",
        "model.add(Dense(num_classes, activation = 'softmax'))"
      ],
      "metadata": {
        "id": "IkWs6t3TMD3X"
      },
      "execution_count": 15,
      "outputs": []
    },
    {
      "cell_type": "code",
      "source": [
        "model.compile(loss = keras.losses.categorical_crossentropy, optimizer=keras.optimizers.Adam(),\n",
        "              metrics=['accuracy'])\n",
        "history = model.fit(x_train, y_train, validation_data = (x_test, y_test), epochs=epochs, batch_size=batch_size)"
      ],
      "metadata": {
        "id": "_V9meodBMGaH",
        "colab": {
          "base_uri": "https://localhost:8080/"
        },
        "outputId": "8612837d-f172-444c-ca53-06ce75f544a8"
      },
      "execution_count": 16,
      "outputs": [
        {
          "output_type": "stream",
          "name": "stdout",
          "text": [
            "Epoch 1/50\n",
            "151/151 [==============================] - 22s 138ms/step - loss: 2.7472 - accuracy: 0.1587 - val_loss: 1.9299 - val_accuracy: 0.3716\n",
            "Epoch 2/50\n",
            "151/151 [==============================] - 19s 126ms/step - loss: 1.5073 - accuracy: 0.5023 - val_loss: 0.9907 - val_accuracy: 0.6834\n",
            "Epoch 3/50\n",
            "151/151 [==============================] - 19s 124ms/step - loss: 0.8613 - accuracy: 0.7061 - val_loss: 0.5964 - val_accuracy: 0.8124\n",
            "Epoch 4/50\n",
            "151/151 [==============================] - 19s 124ms/step - loss: 0.5611 - accuracy: 0.8131 - val_loss: 0.4136 - val_accuracy: 0.8725\n",
            "Epoch 5/50\n",
            "151/151 [==============================] - 18s 123ms/step - loss: 0.3843 - accuracy: 0.8740 - val_loss: 0.2321 - val_accuracy: 0.9315\n",
            "Epoch 6/50\n",
            "151/151 [==============================] - 18s 122ms/step - loss: 0.2758 - accuracy: 0.9131 - val_loss: 0.1880 - val_accuracy: 0.9456\n",
            "Epoch 7/50\n",
            "151/151 [==============================] - 19s 123ms/step - loss: 0.2066 - accuracy: 0.9321 - val_loss: 0.1362 - val_accuracy: 0.9590\n",
            "Epoch 8/50\n",
            "151/151 [==============================] - 18s 121ms/step - loss: 0.1553 - accuracy: 0.9503 - val_loss: 0.0814 - val_accuracy: 0.9842\n",
            "Epoch 9/50\n",
            "151/151 [==============================] - 19s 129ms/step - loss: 0.1046 - accuracy: 0.9687 - val_loss: 0.0523 - val_accuracy: 0.9890\n",
            "Epoch 10/50\n",
            "151/151 [==============================] - 19s 124ms/step - loss: 0.0833 - accuracy: 0.9764 - val_loss: 0.0381 - val_accuracy: 0.9928\n",
            "Epoch 11/50\n",
            "151/151 [==============================] - 19s 124ms/step - loss: 0.0707 - accuracy: 0.9785 - val_loss: 0.0273 - val_accuracy: 0.9950\n",
            "Epoch 12/50\n",
            "151/151 [==============================] - 19s 123ms/step - loss: 0.0576 - accuracy: 0.9829 - val_loss: 0.0197 - val_accuracy: 0.9959\n",
            "Epoch 13/50\n",
            "151/151 [==============================] - 18s 122ms/step - loss: 0.0473 - accuracy: 0.9866 - val_loss: 0.0183 - val_accuracy: 0.9976\n",
            "Epoch 14/50\n",
            "151/151 [==============================] - 19s 123ms/step - loss: 0.0377 - accuracy: 0.9893 - val_loss: 0.0139 - val_accuracy: 0.9992\n",
            "Epoch 15/50\n",
            "151/151 [==============================] - 18s 122ms/step - loss: 0.0313 - accuracy: 0.9910 - val_loss: 0.0066 - val_accuracy: 0.9995\n",
            "Epoch 16/50\n",
            "151/151 [==============================] - 19s 126ms/step - loss: 0.0251 - accuracy: 0.9934 - val_loss: 0.0168 - val_accuracy: 0.9954\n",
            "Epoch 17/50\n",
            "151/151 [==============================] - 18s 122ms/step - loss: 0.0311 - accuracy: 0.9915 - val_loss: 0.0058 - val_accuracy: 0.9999\n",
            "Epoch 18/50\n",
            "151/151 [==============================] - 18s 122ms/step - loss: 0.0276 - accuracy: 0.9923 - val_loss: 0.0109 - val_accuracy: 0.9990\n",
            "Epoch 19/50\n",
            "151/151 [==============================] - 18s 122ms/step - loss: 0.0256 - accuracy: 0.9924 - val_loss: 0.0037 - val_accuracy: 0.9994\n",
            "Epoch 20/50\n",
            "151/151 [==============================] - 19s 123ms/step - loss: 0.0220 - accuracy: 0.9935 - val_loss: 0.0052 - val_accuracy: 0.9995\n",
            "Epoch 21/50\n",
            "151/151 [==============================] - 19s 123ms/step - loss: 0.0192 - accuracy: 0.9953 - val_loss: 0.0045 - val_accuracy: 0.9988\n",
            "Epoch 22/50\n",
            "151/151 [==============================] - 18s 122ms/step - loss: 0.0186 - accuracy: 0.9942 - val_loss: 0.0044 - val_accuracy: 0.9999\n",
            "Epoch 23/50\n",
            "151/151 [==============================] - 19s 124ms/step - loss: 0.0138 - accuracy: 0.9964 - val_loss: 0.0021 - val_accuracy: 0.9999\n",
            "Epoch 24/50\n",
            "151/151 [==============================] - 18s 122ms/step - loss: 0.0083 - accuracy: 0.9979 - val_loss: 0.0015 - val_accuracy: 0.9999\n",
            "Epoch 25/50\n",
            "151/151 [==============================] - 18s 119ms/step - loss: 0.0226 - accuracy: 0.9928 - val_loss: 0.0080 - val_accuracy: 0.9981\n",
            "Epoch 26/50\n",
            "151/151 [==============================] - 18s 117ms/step - loss: 0.0177 - accuracy: 0.9947 - val_loss: 0.0075 - val_accuracy: 0.9976\n",
            "Epoch 27/50\n",
            "151/151 [==============================] - 18s 118ms/step - loss: 0.0146 - accuracy: 0.9959 - val_loss: 0.0016 - val_accuracy: 1.0000\n",
            "Epoch 28/50\n",
            "151/151 [==============================] - 18s 121ms/step - loss: 0.0108 - accuracy: 0.9969 - val_loss: 0.0046 - val_accuracy: 0.9987\n",
            "Epoch 29/50\n",
            "151/151 [==============================] - 20s 131ms/step - loss: 0.0160 - accuracy: 0.9948 - val_loss: 0.0042 - val_accuracy: 0.9990\n",
            "Epoch 30/50\n",
            "151/151 [==============================] - 19s 124ms/step - loss: 0.0119 - accuracy: 0.9969 - val_loss: 0.0060 - val_accuracy: 0.9984\n",
            "Epoch 31/50\n",
            "151/151 [==============================] - 19s 128ms/step - loss: 0.0077 - accuracy: 0.9981 - val_loss: 0.0033 - val_accuracy: 0.9992\n",
            "Epoch 32/50\n",
            "151/151 [==============================] - 19s 124ms/step - loss: 0.0111 - accuracy: 0.9965 - val_loss: 0.0015 - val_accuracy: 0.9996\n",
            "Epoch 33/50\n",
            "151/151 [==============================] - 19s 125ms/step - loss: 0.0122 - accuracy: 0.9963 - val_loss: 0.0029 - val_accuracy: 0.9995\n",
            "Epoch 34/50\n",
            "151/151 [==============================] - 19s 125ms/step - loss: 0.0124 - accuracy: 0.9963 - val_loss: 0.0021 - val_accuracy: 0.9999\n",
            "Epoch 35/50\n",
            "151/151 [==============================] - 19s 123ms/step - loss: 0.0151 - accuracy: 0.9951 - val_loss: 0.0018 - val_accuracy: 0.9999\n",
            "Epoch 36/50\n",
            "151/151 [==============================] - 19s 124ms/step - loss: 0.0118 - accuracy: 0.9963 - val_loss: 4.9351e-04 - val_accuracy: 1.0000\n",
            "Epoch 37/50\n",
            "151/151 [==============================] - 19s 123ms/step - loss: 0.0091 - accuracy: 0.9969 - val_loss: 0.0015 - val_accuracy: 0.9994\n",
            "Epoch 38/50\n",
            "151/151 [==============================] - 19s 127ms/step - loss: 0.0055 - accuracy: 0.9988 - val_loss: 9.8368e-04 - val_accuracy: 0.9998\n",
            "Epoch 39/50\n",
            "151/151 [==============================] - 19s 123ms/step - loss: 0.0213 - accuracy: 0.9932 - val_loss: 0.0013 - val_accuracy: 0.9998\n",
            "Epoch 40/50\n",
            "151/151 [==============================] - 18s 122ms/step - loss: 0.0129 - accuracy: 0.9955 - val_loss: 0.0051 - val_accuracy: 0.9988\n",
            "Epoch 41/50\n",
            "151/151 [==============================] - 18s 122ms/step - loss: 0.0090 - accuracy: 0.9968 - val_loss: 0.0014 - val_accuracy: 0.9996\n",
            "Epoch 42/50\n",
            "151/151 [==============================] - 19s 123ms/step - loss: 0.0040 - accuracy: 0.9990 - val_loss: 6.0899e-04 - val_accuracy: 0.9999\n",
            "Epoch 43/50\n",
            "151/151 [==============================] - 19s 124ms/step - loss: 0.0027 - accuracy: 0.9993 - val_loss: 2.9058e-04 - val_accuracy: 1.0000\n",
            "Epoch 44/50\n",
            "151/151 [==============================] - 19s 124ms/step - loss: 0.0028 - accuracy: 0.9993 - val_loss: 1.5029e-04 - val_accuracy: 1.0000\n",
            "Epoch 45/50\n",
            "151/151 [==============================] - 19s 125ms/step - loss: 0.0029 - accuracy: 0.9992 - val_loss: 2.7842e-04 - val_accuracy: 1.0000\n",
            "Epoch 46/50\n",
            "151/151 [==============================] - 20s 129ms/step - loss: 0.0110 - accuracy: 0.9966 - val_loss: 0.0016 - val_accuracy: 0.9999\n",
            "Epoch 47/50\n",
            "151/151 [==============================] - 19s 124ms/step - loss: 0.0107 - accuracy: 0.9964 - val_loss: 0.0031 - val_accuracy: 0.9993\n",
            "Epoch 48/50\n",
            "151/151 [==============================] - 18s 122ms/step - loss: 0.0081 - accuracy: 0.9977 - val_loss: 9.2368e-04 - val_accuracy: 0.9998\n",
            "Epoch 49/50\n",
            "151/151 [==============================] - 18s 122ms/step - loss: 0.0039 - accuracy: 0.9990 - val_loss: 0.0055 - val_accuracy: 0.9985\n",
            "Epoch 50/50\n",
            "151/151 [==============================] - 18s 122ms/step - loss: 0.0051 - accuracy: 0.9985 - val_loss: 0.0014 - val_accuracy: 0.9996\n"
          ]
        }
      ]
    },
    {
      "cell_type": "code",
      "source": [
        "plt.plot(history.history['accuracy'])\n",
        "plt.plot(history.history['val_accuracy'])\n",
        "plt.title(\"Accuracy\")\n",
        "plt.xlabel('epoch')\n",
        "plt.ylabel('accuracy')\n",
        "plt.legend(['train','test'])\n",
        "\n",
        "plt.show()"
      ],
      "metadata": {
        "id": "AhGiUBgrMKTI",
        "colab": {
          "base_uri": "https://localhost:8080/",
          "height": 295
        },
        "outputId": "3ca74edc-fe5e-49c4-b025-22db551d52f5"
      },
      "execution_count": 17,
      "outputs": [
        {
          "output_type": "display_data",
          "data": {
            "text/plain": [
              "<Figure size 432x288 with 1 Axes>"
            ],
            "image/png": "[encoded data removed]"
          },
          "metadata": {
            "needs_background": "light"
          }
        }
      ]
    },
    {
      "cell_type": "code",
      "source": [
        "accuracy = model.evaluate(x=x_test,y=y_test,batch_size=32)\n",
        "print(\"Accuracy: \",accuracy[1])"
      ],
      "metadata": {
        "id": "72BddADbQe1b",
        "colab": {
          "base_uri": "https://localhost:8080/"
        },
        "outputId": "b27dd1b9-2963-4069-b678-14fded913f98"
      },
      "execution_count": 18,
      "outputs": [
        {
          "output_type": "stream",
          "name": "stdout",
          "text": [
            "258/258 [==============================] - 5s 18ms/step - loss: 0.0014 - accuracy: 0.9996\n",
            "Accuracy:  0.9996358156204224\n"
          ]
        }
      ]
    },
    {
      "cell_type": "code",
      "source": [
        "def keras_predict(model, image):\n",
        "    data = np.asarray( image, dtype=\"int32\" )\n",
        "    pred_probab = model.predict(data)[0]\n",
        "    pred_class = list(pred_probab).index(max(pred_probab))\n",
        "    return max(pred_probab), pred_class"
      ],
      "metadata": {
        "id": "FYfdpRJLZauN"
      },
      "execution_count": 19,
      "outputs": []
    },
    {
      "cell_type": "code",
      "source": [
        "model.summary()"
      ],
      "metadata": {
        "id": "J9v2C0D5eshk",
        "colab": {
          "base_uri": "https://localhost:8080/"
        },
        "outputId": "7c8e570c-4ccc-4bd3-dd57-6c3ad7773259"
      },
      "execution_count": 20,
      "outputs": [
        {
          "output_type": "stream",
          "name": "stdout",
          "text": [
            "Model: \"sequential\"\n",
            "_________________________________________________________________\n",
            " Layer (type)                Output Shape              Param #   \n",
            "=================================================================\n",
            " conv2d (Conv2D)             (None, 26, 26, 64)        640       \n",
            "                                                                 \n",
            " max_pooling2d (MaxPooling2D  (None, 13, 13, 64)       0         \n",
            " )                                                               \n",
            "                                                                 \n",
            " conv2d_1 (Conv2D)           (None, 11, 11, 64)        36928     \n",
            "                                                                 \n",
            " max_pooling2d_1 (MaxPooling  (None, 5, 5, 64)         0         \n",
            " 2D)                                                             \n",
            "                                                                 \n",
            " conv2d_2 (Conv2D)           (None, 3, 3, 64)          36928     \n",
            "                                                                 \n",
            " max_pooling2d_2 (MaxPooling  (None, 1, 1, 64)         0         \n",
            " 2D)                                                             \n",
            "                                                                 \n",
            " flatten (Flatten)           (None, 64)                0         \n",
            "                                                                 \n",
            " dense (Dense)               (None, 128)               8320      \n",
            "                                                                 \n",
            " dropout (Dropout)           (None, 128)               0         \n",
            "                                                                 \n",
            " dense_1 (Dense)             (None, 24)                3096      \n",
            "                                                                 \n",
            "=================================================================\n",
            "Total params: 85,912\n",
            "Trainable params: 85,912\n",
            "Non-trainable params: 0\n",
            "_________________________________________________________________\n"
          ]
        }
      ]
    },
    {
      "cell_type": "code",
      "source": [
        "from keras.utils.vis_utils import plot_model\n",
        "plot_model(model, to_file='model_plot.png', show_shapes=True, show_layer_names=True)\n",
        "!apt install graphviz\n",
        "!pip install pydot pydot-ng\n",
        "!echo \"Double check with Python 3\"\n",
        "!python -c \"import pydot\""
      ],
      "metadata": {
        "id": "5gkLMmAIevEv",
        "colab": {
          "base_uri": "https://localhost:8080/"
        },
        "outputId": "c122f8d3-35a1-4ef7-9e59-b3e189c38506"
      },
      "execution_count": 21,
      "outputs": [
        {
          "output_type": "stream",
          "name": "stdout",
          "text": [
            "Reading package lists... Done\n",
            "Building dependency tree       \n",
            "Reading state information... Done\n",
            "graphviz is already the newest version (2.40.1-2).\n",
            "The following package was automatically installed and is no longer required:\n",
            "  libnvidia-common-460\n",
            "Use 'apt autoremove' to remove it.\n",
            "0 upgraded, 0 newly installed, 0 to remove and 20 not upgraded.\n",
            "Looking in indexes: https://pypi.org/simple, https://us-python.pkg.dev/colab-wheels/public/simple/\n",
            "Requirement already satisfied: pydot in /usr/local/lib/python3.8/dist-packages (1.3.0)\n",
            "Requirement already satisfied: pydot-ng in /usr/local/lib/python3.8/dist-packages (2.0.0)\n",
            "Requirement already satisfied: pyparsing>=2.1.4 in /usr/local/lib/python3.8/dist-packages (from pydot) (3.0.9)\n",
            "Double check with Python 3\n"
          ]
        }
      ]
    },
    {
      "cell_type": "code",
      "source": [
        "plot_model(model, show_shapes=True, show_layer_names=True, to_file='model.png')\n",
        "from IPython.display import Image\n",
        "Image(retina=True, filename='model.png')"
      ],
      "metadata": {
        "id": "MnHlxXdHfBM_",
        "colab": {
          "base_uri": "https://localhost:8080/",
          "height": 607
        },
        "outputId": "de2c96e4-49fe-4ffc-bf06-93fa25eef385"
      },
      "execution_count": 22,
      "outputs": [
        {
          "output_type": "execute_result",
          "data": {
            "image/png": "[encoded data removed]",
            "text/plain": [
              "<IPython.core.display.Image object>"
            ]
          },
          "metadata": {
            "image/png": {
              "width": 208,
              "height": 590
            }
          },
          "execution_count": 22
        }
      ]
    },
    {
      "cell_type": "code",
      "source": [
        "from pydrive.auth import GoogleAuth\n",
        "from pydrive.drive import GoogleDrive\n",
        "from google.colab import auth\n",
        "from oauth2client.client import GoogleCredentials\n",
        "\n",
        "auth.authenticate_user()\n",
        "gauth = GoogleAuth()\n",
        "gauth.credentials = GoogleCredentials.get_application_default()\n",
        "drive = GoogleDrive(gauth)"
      ],
      "metadata": {
        "id": "bdYhgvHsffAn"
      },
      "execution_count": 23,
      "outputs": []
    },
    {
      "cell_type": "code",
      "source": [
        "model.save('model.h5')\n",
        "weights_file = drive.CreateFile({'title' : 'model.h5'})\n",
        "weights_file.SetContentFile('model.h5')\n",
        "weights_file.Upload()\n",
        "drive.CreateFile({'id': weights_file.get('id')})"
      ],
      "metadata": {
        "id": "zlVx5jNyfG2K",
        "colab": {
          "base_uri": "https://localhost:8080/"
        },
        "outputId": "a16fc472-c3c0-40e8-b83b-ee6e03869368"
      },
      "execution_count": 24,
      "outputs": [
        {
          "output_type": "execute_result",
          "data": {
            "text/plain": [
              "GoogleDriveFile({'id': '1Rd0R2nUYUOu29JFXFpeTFtBAqy67dWZp'})"
            ]
          },
          "metadata": {},
          "execution_count": 24
        }
      ]
    }
  ]
}